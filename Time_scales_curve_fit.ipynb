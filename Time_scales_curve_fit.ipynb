{
  "nbformat": 4,
  "nbformat_minor": 0,
  "metadata": {
    "colab": {
      "name": "Time_scales_curve_fit.ipynb",
      "provenance": [],
      "collapsed_sections": [],
      "authorship_tag": "ABX9TyM6bh8vj+mNdePoFRWLXdhF",
      "include_colab_link": true
    },
    "kernelspec": {
      "name": "python3",
      "display_name": "Python 3"
    },
    "language_info": {
      "name": "python"
    }
  },
  "cells": [
    {
      "cell_type": "markdown",
      "metadata": {
        "id": "view-in-github",
        "colab_type": "text"
      },
      "source": [
        "<a href=\"https://colab.research.google.com/github/LeyloJohnny/Computational-Neuroscience/blob/main/Time_scales_curve_fit.ipynb\" target=\"_parent\"><img src=\"https://colab.research.google.com/assets/colab-badge.svg\" alt=\"Open In Colab\"/></a>"
      ]
    },
    {
      "cell_type": "code",
      "metadata": {
        "id": "ZEELFBXQw57y"
      },
      "source": [
        "!pip install git+git://github.com/lindermanlab/ssm\n",
        "import ssm\n",
        "\n",
        "import numpy as np\n",
        "import matplotlib.pyplot as plt\n",
        "\n",
        "import pickle\n",
        "import pandas as pd\n",
        "import matplotlib.pyplot as plt\n",
        "import numpy as np\n",
        "from sklearn.model_selection import StratifiedKFold\n",
        "import scipy.stats as st\n",
        "import multiprocessing\n",
        "\n",
        "import autograd.numpy as np\n",
        "import autograd.numpy.random as npr\n",
        "npr.seed(3)\n",
        "\n",
        "import ssm\n",
        "from ssm.util import find_permutation\n",
        "from ssm.plots import gradient_cmap, white_to_color_cmap\n",
        "\n",
        "import matplotlib.pyplot as plt\n",
        "%matplotlib inline\n",
        "\n",
        "import seaborn as sns\n",
        "sns.set_style(\"white\")\n",
        "sns.set_context(\"talk\")\n",
        "\n",
        "color_names=['blue','blue','red','red', 'amber','amber','green','green','dark brown',\n",
        "             'lavender','dark red','gold','dark teal','rust','fuchsia','pale orange',\n",
        "             'cobalt blue','mahogany','cloudy blue','dark pastel green','dust','fresh green','light eggplant']\n",
        "\n",
        "color = sns.xkcd_palette(color_names)\n",
        "cmap = gradient_cmap(color)\n",
        "\n",
        "x = [5, 10, 20, 30]\n",
        "\n",
        "SFA_10 = [0.056, 0.098, 0.132, 0.148]\n",
        "SFA_100 = [0.011, 0.013, 0.009, 0.013]\n",
        "wo_SFA_10 = [0.058, 0.064, 0.129, 0.12]\n",
        "wo_SFA_100 = [0.007, 0.008, 0.01, 0.013]\n",
        "\n",
        "#test = [SFA_10, SFA_100, wo_SFA_10, wo_SFA_100]\n",
        "\n",
        "\n",
        "\n",
        "stim_SFA_10 = [0.067, 0.137, 0.157, 0.167]\n",
        "stim_SFA_100 = [0.009, 0.012, 0.014, 0.024]\n",
        "stim_wo_SFA_10 = [0.18, 0.215, 0.281, 0.348]\n",
        "stim_wo_SFA_100 = [0.014, 0.02, 0.03, 0.04]\n",
        "\n",
        "test = [SFA_10, SFA_100, wo_SFA_10, wo_SFA_100, stim_SFA_10, stim_SFA_100, stim_wo_SFA_10, stim_wo_SFA_100]\n",
        "\n",
        "texts = ['SFA 10 ms', 'SFA 100 ms', 'wo SFA 10 ms', 'wo SFA 100 ms', 'stim. SFA 10 ms', 'stim. SFA 100 ms', \n",
        "         'stim. wo SFA 10', 'stim. wo SFA 100 ms']\n",
        "\n",
        "fig = plt.figure(figsize = (20, 12))\n",
        "\n",
        "#colors = ['c', 'c', 'g', 'g']\n",
        "alpha = [1, 0.4, 1, 0.4, 1, 0.4, 1, 0.4]\n",
        "\n",
        "for i in range(8):\n",
        "    y = test[i]\n",
        "    plt.plot(x, y, color = color[i], alpha = alpha[i], linestyle = '-')\n",
        "    plt.scatter(x, y, color = color[i], alpha = alpha[i])\n",
        "    plt.xlabel(\"Number of hmm states\")\n",
        "    plt.ylabel(\"Time scale\")\n",
        "    plt.xticks(x)\n",
        "\n",
        "plt.legend(texts)"
      ],
      "execution_count": null,
      "outputs": []
    }
  ]
}